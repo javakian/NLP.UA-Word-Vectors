{
 "cells": [
  {
   "cell_type": "code",
   "execution_count": 2,
   "metadata": {
    "collapsed": false,
    "deletable": true,
    "editable": true
   },
   "outputs": [],
   "source": [
    "from html.parser import HTMLParser\n",
    "\n",
    "class UkrLibSiteParser(HTMLParser):\n",
    "    composition_urls = []\n",
    "    \n",
    "    def parse_composition_urls(self, tag, attrs):\n",
    "        if tag == \"a\":\n",
    "            #print(\"TAG: \", tag)\n",
    "            for attr in attrs:\n",
    "                if attr[0] == 'href':\n",
    "                    #print('http://ukrlit.org' + attr[1])\n",
    "                    querystring = attr[1]\n",
    "                    \n",
    "                    if (not querystring.startswith('/tvory')) and (not querystring.startswith('http')):\n",
    "                        #print(querystring)\n",
    "                        querystring_parts = querystring.split('/')\n",
    "                        #print(len(querystring_parts))\n",
    "                        if (len(querystring_parts) is 3) and (not querystring_parts[2].startswith('tvory')):\n",
    "                            author = querystring_parts[1]\n",
    "                            author_parts = author.split('_')\n",
    "                            composition = querystring_parts[2]\n",
    "                            #print(composition)\n",
    "                            \n",
    "                            filename = author_parts[0] + \"-\" + composition + \".txt\"\n",
    "                            composition_url = 'http://ukrlit.org/faily/avtor/' + author + \"/\" + filename\n",
    "                            #print(composition_url)\n",
    "                            self.composition_urls.append([author, filename, composition_url])\n",
    "        \n",
    "    def handle_starttag(self, tag, attrs):\n",
    "        self.parse_composition_urls(tag, attrs)\n",
    "site_content = ''        \n",
    "parser = UkrLibSiteParser()"
   ]
  },
  {
   "cell_type": "code",
   "execution_count": 3,
   "metadata": {
    "collapsed": false,
    "deletable": true,
    "editable": true
   },
   "outputs": [],
   "source": [
    "import urllib.request\n",
    "with urllib.request.urlopen('http://ukrlit.org/tvory/uk') as f:\n",
    "    site_content = f.read().decode('utf-8')\n",
    "    #print(site_content)\n",
    "    "
   ]
  },
  {
   "cell_type": "code",
   "execution_count": 4,
   "metadata": {
    "collapsed": false,
    "deletable": true,
    "editable": true
   },
   "outputs": [
    {
     "name": "stdout",
     "output_type": "stream",
     "text": [
      "Number of composition urls:  2962\n"
     ]
    }
   ],
   "source": [
    "parser.feed(site_content)\n",
    "\n",
    "print(\"Number of composition urls: \", len(parser.composition_urls))\n",
    "#print(parser.composition_urls)"
   ]
  },
  {
   "cell_type": "code",
   "execution_count": 5,
   "metadata": {
    "collapsed": false,
    "deletable": true,
    "editable": true
   },
   "outputs": [
    {
     "name": "stdout",
     "output_type": "stream",
     "text": [
      "Root exits:  True\n",
      "-- removing root\n",
      "-- removed root\n",
      "-- root exits:  False\n",
      "Root created:  True\n"
     ]
    }
   ],
   "source": [
    "import shutil\n",
    "from pathlib import Path\n",
    "\n",
    "root_path_name = \"data\"\n",
    "root_path = Path(root_path_name)\n",
    "\n",
    "print(\"Root exits: \", root_path.exists() and root_path.is_dir())\n",
    "\n",
    "if root_path.exists() and root_path.is_dir():\n",
    "    print(\"-- removing root\")\n",
    "    shutil.rmtree(str(root_path))\n",
    "    print(\"-- removed root\")\n",
    "    print(\"-- root exits: \", root_path.exists() and root_path.is_dir())\n",
    "    \n",
    "root_path.mkdir()\n",
    "print(\"Root created: \", root_path.exists() and root_path.is_dir())"
   ]
  },
  {
   "cell_type": "code",
   "execution_count": 6,
   "metadata": {
    "collapsed": false,
    "deletable": true,
    "editable": true
   },
   "outputs": [],
   "source": [
    "from collections import Counter\n",
    "author_stats = Counter([x[0] for x in parser.composition_urls])\n",
    "\n",
    "#print(author_stats)"
   ]
  },
  {
   "cell_type": "markdown",
   "metadata": {},
   "source": [
    "# RESTORE POINT"
   ]
  },
  {
   "cell_type": "code",
   "execution_count": 7,
   "metadata": {
    "collapsed": false,
    "deletable": true,
    "editable": true
   },
   "outputs": [
    {
     "name": "stdout",
     "output_type": "stream",
     "text": [
      "Authors in the database:  151\n",
      "Compositions:  2962\n",
      "Most common:\n",
      " -  Antonych Bohdan Ihor Vasyliovych | 226\n",
      " -  Hlibov Leonid Ivanovych | 184\n",
      " -  Hrinchak Vasyl Yakovych | 101\n",
      " -  Khvyliovyi Mykola | 120\n",
      " -  Rudanskyi Stepan Vasyliovych | 122\n",
      " -  Symonenko Vasyl Andriiovych | 149\n",
      " -  Vinhranovskyi Mykola Stepanovych | 272\n",
      " -  Voronko Platon Mykytovych | 118\n",
      " -  Zahul Dmytro Yuriiovych | 110\n",
      " -  Zerov Mykola Kostiantynovych | 83\n",
      "Full:\n",
      " -  Afanasiev Chuzhbynskyi Oleksandr Stepanovych | 2\n",
      " -  Aleksandrov Volodymyr Stepanovych | 1\n",
      " -  Andiievska Emma | 5\n",
      " -  Andriiashyk Roman Vasyliovych | 2\n",
      " -  Andrukhovych Yurii Ihorovych | 5\n",
      " -  Andrusiak Ivan Mykhailovych | 7\n",
      " -  Antonenko Davydovych Borys Dmytrovych | 6\n",
      " -  Antonovych Volodymyr Bonifatiiovych | 7\n",
      " -  Antonych Bohdan Ihor Vasyliovych | 226\n",
      " -  Avramenko Serhii Volodymyrovych | 3\n",
      " -  Babii Stepan Oleksandrovych | 1\n",
      " -  Bahrianyi Ivan Pavlovych | 35\n",
      " -  Baidiuk Mykola | 10\n",
      " -  Bantyna Yaroslav | 1\n",
      " -  Baranov Viktor Fedorovych | 1\n",
      " -  Barka Vasyl Kostiantynovych | 8\n",
      " -  Bazhan Mykola Platonovych | 13\n",
      " -  Belskyi Sydir | 4\n",
      " -  Ben Stepan | 5\n",
      " -  Berezhnyi Vasyl Pavlovych | 62\n",
      " -  Berezinskyi Vasyl | 1\n",
      " -  Bilous Dmytro Hryhorovych | 9\n",
      " -  Bilyi Dmytro Dmytrovych | 1\n",
      " -  Bilyk Ivan Ivanovych | 6\n",
      " -  Bilylovskyi Kesar Oleksandrovych | 3\n",
      " -  Blyznets Viktor Semenovych | 2\n",
      " -  Bobynskyi Vasyl Petrovych | 6\n",
      " -  Boichuk Bohdan Mykolaiovych | 3\n",
      " -  Bonkovskyi Denys Fedorovych | 1\n",
      " -  Borovykovskyi Levko Ivanovych | 17\n",
      " -  Brovchenko Volodymyr Yakovych | 5\n",
      " -  Burevii Kost Stepanovych | 2\n",
      " -  Buriakivets Yurii Dmytrovych | 36\n",
      " -  Chabanivskyi Mykhailo Ivanovych | 2\n",
      " -  Chaikovskyi Andrii Yakovych | 3\n",
      " -  Charnetskyi Stepan Mykolaiovych | 1\n",
      " -  Cherkasenko Spyrydon Feodosiiovych | 1\n",
      " -  Chernilevskyi Stanislav Boleslavovych | 2\n",
      " -  Chubynskyi Pavlo Platonovych | 1\n",
      " -  Churai Marusia | 6\n",
      " -  Davydov Anatolii Ivanovych | 2\n",
      " -  Didenko Vasyl Ivanovych | 1\n",
      " -  Dimarov Anatolii Andriiovych | 5\n",
      " -  Dniprova Chaika | 1\n",
      " -  Dovzhenko Oleksandr Petrovych | 7\n",
      " -  Drach Ivan Fedorovych | 55\n",
      " -  Drahan Yurii | 4\n",
      " -  Ellan Blakytnyi Vasyl | 7\n",
      " -  Fedkovych Osyp Yurii Adalbertovych | 11\n",
      " -  Franko Ivan Yakovych | 19\n",
      " -  Harasevych Andrii | 5\n",
      " -  Havrosh Oleksandr Diulovych | 1\n",
      " -  Herasymenko Kost Mykhailovych | 4\n",
      " -  Hlazovyi Pavlo Prokopovych | 16\n",
      " -  Hlibov Leonid Ivanovych | 184\n",
      " -  Hohol Mykola Vasyliovych | 1\n",
      " -  Holoborodko Vasyl Ivanovych | 5\n",
      " -  Honchar Oles Terentiiovych | 40\n",
      " -  Hrabovskyi Pavlo Arsenovych | 10\n",
      " -  Hrebinka Yevhen Pavlovych | 1\n",
      " -  Hrinchak Vasyl Yakovych | 101\n",
      " -  Hrinchenko Borys Dmytrovych | 26\n",
      " -  Hrushevskyi Mykhailo Serhiiovych | 2\n",
      " -  Hutsalo Yevhen Pylypovych | 6\n",
      " -  Irliavskyi Ivan | 3\n",
      " -  Ivanychuk Roman Ivanovych | 2\n",
      " -  Kalynets Ihor Myronovych | 10\n",
      " -  Karmanskyi Petro Sylvestrovych | 78\n",
      " -  Karpenko Karyi Ivan | 2\n",
      " -  Kaschenko Adrian Feofanovych | 11\n",
      " -  Kharchuk Borys Mykytovych | 2\n",
      " -  Khvyliovyi Mykola | 120\n",
      " -  Klen Yurii | 4\n",
      " -  Klymovskyi Semen | 1\n",
      " -  Kobylianska Olha Yulianivna | 11\n",
      " -  Kobylianskyi Volodymyr Oleksandrovych | 3\n",
      " -  Konyskyi Oleksandr Yakovych | 1\n",
      " -  Koroliv Staryi Vasyl Kostiantynovych | 14\n",
      " -  Korotych Vitalii Oleksiiovych | 8\n",
      " -  Kostenko Lina Vasylivna | 50\n",
      " -  Kostomarov Mykola Ivanovych | 2\n",
      " -  Kosynka Hryhorii Mykhailovych | 8\n",
      " -  Kotliarevskyi Ivan Petrovych | 6\n",
      " -  Kotsiubynskyi Mykhailo Mykhailovych | 39\n",
      " -  Krymskyi Ahatanhel Yukhymovych | 5\n",
      " -  Kulish Panteleimon Oleksandrovych | 26\n",
      " -  Kupchynskyi Roman Hryhorovych | 11\n",
      " -  Kvitka Osnovianenko Hryhorii Fedorovych | 3\n",
      " -  Kyseliov Leonid Volodymyrovych | 33\n",
      " -  Lepkyi Bohdan Sylvestrovych | 19\n",
      " -  Lototskyi Antin Lvovych | 1\n",
      " -  Lypa Ivan Lvovych | 3\n",
      " -  Malyk Halyna Mykolaivna | 1\n",
      " -  Malyshko Andrii Samiilovych | 8\n",
      " -  Malytska Kostiantyna Ivanivna | 1\n",
      " -  Mazepa Ivan Stepanovych | 1\n",
      " -  Menzatiuk Zirka Zakhariivna | 1\n",
      " -  Myrnyi Panas | 11\n",
      " -  Nechui Levytskyi Ivan Semenovych | 46\n",
      " -  Nestaiko Vsevolod Zinoviiovych | 5\n",
      " -  Nestor Litopysets | 1\n",
      " -  Oles Oleksandr | 13\n",
      " -  Oliinyk Stepan Ivanovych | 2\n",
      " -  Olzhych Oleh | 9\n",
      " -  Pavlenko Maryna Stepanivna | 1\n",
      " -  Pchilka Olena | 1\n",
      " -  Pidpalyi Volodymyr Oleksiiovych | 4\n",
      " -  Pokalchuk Yurii Volodymyrovych | 6\n",
      " -  Ponomarenko Liubov Petrivna | 1\n",
      " -  Rudanskyi Stepan Vasyliovych | 122\n",
      " -  Rutkivskyi Volodymyr Hryhorovych | 1\n",
      " -  Rylskyi Maksym Tadeiovych | 5\n",
      " -  Samchuk Ulas Oleksiiovych | 7\n",
      " -  Senatovych Oksana Pavlivna | 1\n",
      " -  Shapoval Ivan Maksymovych | 1\n",
      " -  Shevchenko Taras Hryhorovych | 63\n",
      " -  Skovoroda Hryhorii Savych | 2\n",
      " -  Sosiura Volodymyr Mykolaiovych | 37\n",
      " -  Starytskyi Mykhailo Petrovych | 3\n",
      " -  Stefanyk Vasyl Semenovych | 58\n",
      " -  Stelmakh Mykhailo Panasovych | 2\n",
      " -  Stelmakh Yaroslav Mykhailovych | 1\n",
      " -  Storozhenko Oleksa Petrovych | 2\n",
      " -  Symonenko Vasyl Andriiovych | 149\n",
      " -  Teliha Olena Ivanivna | 3\n",
      " -  Tiutiunnyk Hryhir Mykhailovych | 10\n",
      " -  Tiutiunnyk Hryhorii Mykhailovych | 1\n",
      " -  Tychyna Pavlo Hryhorovych | 37\n",
      " -  Ukrainka Lesia | 31\n",
      " -  Usna Narodna Tvorchist | 36\n",
      " -  Vasylchenko Stepan Vasyliovych | 9\n",
      " -  Vinhranovskyi Mykola Stepanovych | 272\n",
      " -  Vlyzko Oleksa Fedorovych | 7\n",
      " -  Volvach Mariia Stepanivna | 1\n",
      " -  Vorobkevych Sydir Ivanovych | 4\n",
      " -  Voronko Platon Mykytovych | 118\n",
      " -  Voronyi Mykola Kindratovych | 24\n",
      " -  Voronyna Lesia | 1\n",
      " -  Vovchok Marko | 34\n",
      " -  Vynnychenko Volodymyr Kyrylovych | 39\n",
      " -  Vyshenskyi Ivan | 7\n",
      " -  Yacheikin Yurii Dmytrovych | 8\n",
      " -  Yohansen Maik Hervasiiovych | 1\n",
      " -  Zabila Viktor Mykolaiovych | 25\n",
      " -  Zahrebelnyi Pavlo Arhypovych | 7\n",
      " -  Zahul Dmytro Yuriiovych | 110\n",
      " -  Zerov Mykola Kostiantynovych | 83\n",
      " -  Zholdak Bohdan Oleksiiovych | 15\n",
      " -  Zhuk Ihor Teodorovych | 5\n",
      " -  Zhylenko Iryna Volodymyrivna | 3\n",
      " -  Zynoviiv Klymentii | 3\n"
     ]
    }
   ],
   "source": [
    "def print_stats(stats):\n",
    "    for item in sorted(stats):\n",
    "        print(\" - \", item[0].replace('_', ' ').title(), '|', item[1])\n",
    "\n",
    "print(\"Authors in the database: \", len(author_stats))\n",
    "print(\"Compositions: \", len(parser.composition_urls))\n",
    "\n",
    "print(\"Most common:\")\n",
    "print_stats(sorted(author_stats.most_common(10)))\n",
    "\n",
    "print(\"Full:\")\n",
    "print_stats(author_stats.items())"
   ]
  },
  {
   "cell_type": "code",
   "execution_count": 13,
   "metadata": {
    "collapsed": false,
    "deletable": true,
    "editable": true
   },
   "outputs": [
    {
     "name": "stdout",
     "output_type": "stream",
     "text": [
      "Download files:\n"
     ]
    }
   ],
   "source": [
    "for item in parser.composition_urls:\n",
    "    author_path = root_path / item[0]\n",
    "    \n",
    "    if not author_path.exists():\n",
    "        author_path.mkdir()\n",
    "    \n",
    "    file_path = author_path / item[1]\n",
    "    \n",
    "    req = urllib.request.urlretrieve(item[2], str(file_path))"
   ]
  },
  {
   "cell_type": "code",
   "execution_count": null,
   "metadata": {
    "collapsed": true
   },
   "outputs": [],
   "source": []
  }
 ],
 "metadata": {
  "kernelspec": {
   "display_name": "Python 3.5",
   "language": "python",
   "name": "python3"
  },
  "language_info": {
   "codemirror_mode": {
    "name": "ipython",
    "version": 3
   },
   "file_extension": ".py",
   "mimetype": "text/x-python",
   "name": "python",
   "nbconvert_exporter": "python",
   "pygments_lexer": "ipython3",
   "version": "3.5.2"
  }
 },
 "nbformat": 4,
 "nbformat_minor": 2
}
